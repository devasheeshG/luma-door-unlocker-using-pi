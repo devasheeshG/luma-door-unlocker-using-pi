{
 "cells": [
  {
   "cell_type": "code",
   "execution_count": 1,
   "id": "2afade62",
   "metadata": {},
   "outputs": [
    {
     "data": {
      "text/plain": [
       "True"
      ]
     },
     "execution_count": 1,
     "metadata": {},
     "output_type": "execute_result"
    }
   ],
   "source": [
    "from dotenv import load_dotenv\n",
    "load_dotenv()\n"
   ]
  },
  {
   "cell_type": "code",
   "execution_count": 11,
   "id": "415cbd16",
   "metadata": {},
   "outputs": [],
   "source": [
    "import os\n",
    "import requests\n",
    "import json\n",
    "\n",
    "url = \"https://api.lu.ma/auth/sign-in-with-password\"\n",
    "\n",
    "payload = json.dumps({\n",
    "  \"email\": os.getenv(\"LUMA_EMAIL\"),\n",
    "  \"password\": os.getenv(\"LUMA_PASSWORD\")\n",
    "})\n",
    "headers = {\n",
    "  'Content-Type': 'application/json',\n",
    "}\n",
    "\n",
    "response = requests.request(\"POST\", url, headers=headers, data=payload)\n"
   ]
  },
  {
   "cell_type": "code",
   "execution_count": 12,
   "id": "7f68a0a1",
   "metadata": {},
   "outputs": [
    {
     "data": {
      "text/plain": [
       "{'luma.auth-session-key': 'usr-oUTIxE0c8yIomEz.0432b72yb5731zdt1us2',\n",
       " '__cf_bm': '0O0nKpOEQLL.2jIvawoaLTT3JVOgwg1IR6Ngi.eR6NI-1752486553-1.0.1.1-GsLf09ZrqueXiUfxn9x18NnSJZ6F6KIvuKmZtfVgCQ3thzJbKdtVwTNp4Ey7b3UKK2W3CTQ2dIKmjef7YAtxXQfW3btJW2YWg3eXlWXZvX4'}"
      ]
     },
     "execution_count": 12,
     "metadata": {},
     "output_type": "execute_result"
    }
   ],
   "source": [
    "response.cookies.get_dict()\n"
   ]
  },
  {
   "cell_type": "code",
   "execution_count": 16,
   "id": "259cec95",
   "metadata": {},
   "outputs": [
    {
     "data": {
      "text/plain": [
       "'luma.auth-session-key=usr-oUTIxE0c8yIomEz.0432b72yb5731zdt1us2; __cf_bm=0O0nKpOEQLL.2jIvawoaLTT3JVOgwg1IR6Ngi.eR6NI-1752486553-1.0.1.1-GsLf09ZrqueXiUfxn9x18NnSJZ6F6KIvuKmZtfVgCQ3thzJbKdtVwTNp4Ey7b3UKK2W3CTQ2dIKmjef7YAtxXQfW3btJW2YWg3eXlWXZvX4'"
      ]
     },
     "execution_count": 16,
     "metadata": {},
     "output_type": "execute_result"
    }
   ],
   "source": [
    "# Extract cookies from response\n",
    "all_cookies = response.cookies.get_dict()\n",
    "cookie_string = \"; \".join([f\"{name}={value}\" for name, value in all_cookies.items()])\n",
    "cookie_string\n"
   ]
  },
  {
   "cell_type": "code",
   "execution_count": 17,
   "id": "048124c5",
   "metadata": {},
   "outputs": [
    {
     "name": "stdout",
     "output_type": "stream",
     "text": [
      "{\"guest\":{\"api_id\":\"gst-5gOLk0AzE8I4tCZ\",\"approval_status\":\"approved\",\"created_at\":\"2025-07-13T12:35:34.258Z\",\"crypto_contract_address\":null,\"crypto_owner_address\":null,\"crypto_token_id\":null,\"crypto_token_info\":null,\"custom_source\":null,\"eth_address\":null,\"event_api_id\":\"evt-PEQnIewqz3JdoTY\",\"geo_city\":\"San Francisco\",\"geo_country\":\"US\",\"invited_at\":null,\"joined_at\":null,\"phone_number\":null,\"proxy_key\":\"g-eqzjvbIp6EVYppx\",\"referred_by_user_api_id\":null,\"registered_at\":\"2025-07-13T12:35:34.257Z\",\"registration_answers\":[],\"solana_address\":null,\"updated_at\":\"2025-07-13T12:35:34.436Z\",\"user_api_id\":\"usr-41Fyq8vbxHSGklo\",\"name\":\"Anuj Kodam\",\"first_name\":\"Anuj\",\"last_name\":\"Kodam\",\"email\":\"anuj@zo.xyz\",\"avatar_url\":\"https://images.lumacdn.com/avatars/ek/440a639d-85f5-4812-b623-c1621a0a1fe6\",\"bio_short\":\"From the world where we have realised our unity and identity with all. \\n\\nBuilding Products at Zo World. \\n\\nZooohmm! \",\"instagram_handle\":null,\"linkedin_handle\":\"/in/anuj-k-07ba83102\",\"locale\":\"en-IN\",\"tiktok_handle\":null,\"twitter_handle\":\"aatmaann\",\"website\":null,\"youtube_handle\":\"\",\"registered_or_created_at\":\"2025-07-13T12:35:34.257Z\",\"object\":\"event_guest\",\"has_joined_event\":false,\"last_checked_in_at\":null,\"survey_response_rating\":null,\"survey_response_feedback\":null,\"event_tickets\":[{\"amount\":0,\"api_id\":\"eventticket-vyCtCqHSJN5shFD\",\"currency\":\"usd\",\"amount_tax\":0,\"is_captured\":false,\"charge_api_id\":null,\"checked_in_at\":null,\"invalidated_at\":null,\"amount_discount\":0,\"event_ticket_type_info\":{\"name\":\"Standard\",\"type\":\"free\",\"cents\":null,\"api_id\":\"evtticktyp-fa5hWF34e2TWAdF\",\"currency\":null,\"is_hidden\":false,\"min_cents\":null,\"description\":null,\"is_flexible\":false,\"event_api_id\":\"evt-PEQnIewqz3JdoTY\",\"max_capacity\":null,\"valid_end_at\":null,\"currency_info\":null,\"valid_start_at\":null,\"require_approval\":false,\"membership_restriction\":null,\"ethereum_token_requirements\":[]},\"event_ticket_type_api_id\":\"evtticktyp-fa5hWF34e2TWAdF\",\"event_ticket_order_api_id\":\"evttktord-fBkFr9KhYhBzDNE\"}]}}\n"
     ]
    }
   ],
   "source": [
    "import requests\n",
    "\n",
    "url = \"https://api.lu.ma/event/admin/get-guest?event_api_id=evt-PEQnIewqz3JdoTY&proxy_key=g-eqzjvbIp6EVYppx\"\n",
    "\n",
    "payload = {}\n",
    "headers = {\n",
    "  'Cookie': cookie_string\n",
    "}\n",
    "\n",
    "response2 = requests.request(\"GET\", url, headers=headers, data=payload)\n",
    "\n",
    "print(response2.text)\n"
   ]
  }
 ],
 "metadata": {
  "kernelspec": {
   "display_name": "luma-door-unlocker-py3.12",
   "language": "python",
   "name": "python3"
  },
  "language_info": {
   "codemirror_mode": {
    "name": "ipython",
    "version": 3
   },
   "file_extension": ".py",
   "mimetype": "text/x-python",
   "name": "python",
   "nbconvert_exporter": "python",
   "pygments_lexer": "ipython3",
   "version": "3.12.10"
  }
 },
 "nbformat": 4,
 "nbformat_minor": 5
}
